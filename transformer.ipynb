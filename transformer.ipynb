{
 "cells": [
  {
   "cell_type": "code",
   "execution_count": 1,
   "metadata": {},
   "outputs": [],
   "source": [
    "import tensorflow as tf\n",
    "import numpy as np\n",
    "\n",
    "from tensorflow.keras.layers import Dense, Flatten, Conv2D, LayerNormalization, Embedding, Attention\n",
    "from tensorflow.keras import Model"
   ]
  },
  {
   "cell_type": "code",
   "execution_count": 2,
   "metadata": {},
   "outputs": [],
   "source": [
    "def validation(path):\n",
    "    with open(path) as f:\n",
    "        lines = f.readlines()\n",
    "    labels = []\n",
    "    for line in lines:\n",
    "        labels.append(line.strip())\n",
    "    return labels"
   ]
  },
  {
   "cell_type": "code",
   "execution_count": 3,
   "metadata": {},
   "outputs": [],
   "source": [
    "def cls_folder(path):\n",
    "    with open(path) as f:\n",
    "        rels = json.loads(f.read())\n",
    "    def _process(cls):\n",
    "        return rels[cls][0]\n",
    "    return rels"
   ]
  },
  {
   "cell_type": "code",
   "execution_count": 205,
   "metadata": {},
   "outputs": [],
   "source": [
    "class data_iterator(object):\n",
    "    def __init__(self, label_path, image_dir, preprocess):\n",
    "        self.dataset = []\n",
    "        with open(path) as f:\n",
    "            lines = f.readlines()\n",
    "        for line in lines:\n",
    "            self.dataset.append(line.strip().split(' '))\n",
    "        self.image_dir = image_dir\n",
    "        self.data_iter = iter(self.dataset)\n",
    "        self.preprocess = preprocess\n",
    "    \n",
    "    def get(self):\n",
    "        try:\n",
    "            image_path, label = \n",
    "        except:\n",
    "            self.data_iter = iter(self.dataset)\n",
    "            return *self.get()"
   ]
  },
  {
   "cell_type": "code",
   "execution_count": 5,
   "metadata": {},
   "outputs": [
    {
     "name": "stdout",
     "output_type": "stream",
     "text": [
      "['n02119789/n02119789_7635.JPEG', '0']\n"
     ]
    }
   ],
   "source": [
    "with open('data/train_label.txt') as f:\n",
    "    print(f.readline().strip().split(' '))"
   ]
  },
  {
   "cell_type": "code",
   "execution_count": null,
   "metadata": {},
   "outputs": [],
   "source": []
  }
 ],
 "metadata": {
  "kernelspec": {
   "display_name": "bert",
   "language": "python",
   "name": "bert"
  },
  "language_info": {
   "codemirror_mode": {
    "name": "ipython",
    "version": 3
   },
   "file_extension": ".py",
   "mimetype": "text/x-python",
   "name": "python",
   "nbconvert_exporter": "python",
   "pygments_lexer": "ipython3",
   "version": "3.6.10"
  }
 },
 "nbformat": 4,
 "nbformat_minor": 4
}
